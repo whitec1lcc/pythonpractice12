{
 "cells": [
  {
   "cell_type": "markdown",
   "id": "0612d15c",
   "metadata": {},
   "source": [
    "# Coding set 2\n",
    "\n",
    "This is coding set 2.  I am doing 1, 3 and 13."
   ]
  },
  {
   "cell_type": "code",
   "execution_count": null,
   "id": "dd881785",
   "metadata": {},
   "outputs": [],
   "source": [
    "print('George', 'John', 'Ringo', sep='@')"
   ]
  }
 ],
 "metadata": {
  "kernelspec": {
   "display_name": "Python 3 (ipykernel)",
   "language": "python",
   "name": "python3"
  },
  "language_info": {
   "codemirror_mode": {
    "name": "ipython",
    "version": 3
   },
   "file_extension": ".py",
   "mimetype": "text/x-python",
   "name": "python",
   "nbconvert_exporter": "python",
   "pygments_lexer": "ipython3",
   "version": "3.11.7"
  }
 },
 "nbformat": 4,
 "nbformat_minor": 5
}
